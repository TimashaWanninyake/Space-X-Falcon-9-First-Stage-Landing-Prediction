{
 "cells": [
  {
   "cell_type": "code",
   "execution_count": null,
   "id": "5f6c2247",
   "metadata": {},
   "outputs": [],
   "source": []
  }
 ],
 "metadata": {
  "language_info": {
   "name": "python"
  }
 },
 "nbformat": 4,
 "nbformat_minor": 5
}
