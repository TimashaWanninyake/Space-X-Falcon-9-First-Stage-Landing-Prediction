{
 "cells": [
  {
   "cell_type": "code",
   "execution_count": 2,
   "id": "084f1968",
   "metadata": {},
   "outputs": [
    {
     "name": "stdout",
     "output_type": "stream",
     "text": [
      "Collecting ipython-sql\n",
      "  Downloading ipython_sql-0.5.0-py3-none-any.whl.metadata (17 kB)\n",
      "Collecting prettytable (from ipython-sql)\n",
      "  Downloading prettytable-3.16.0-py3-none-any.whl.metadata (33 kB)\n",
      "Requirement already satisfied: ipython in c:\\users\\timasha\\appdata\\roaming\\python\\python312\\site-packages (from ipython-sql) (8.25.0)\n",
      "Requirement already satisfied: sqlalchemy>=2.0 in c:\\users\\timasha\\appdata\\local\\programs\\python\\python312\\lib\\site-packages (from ipython-sql) (2.0.34)\n",
      "Requirement already satisfied: sqlparse in c:\\users\\timasha\\appdata\\local\\programs\\python\\python312\\lib\\site-packages (from ipython-sql) (0.5.1)\n",
      "Requirement already satisfied: six in c:\\users\\timasha\\appdata\\local\\programs\\python\\python312\\lib\\site-packages (from ipython-sql) (1.17.0)\n",
      "Collecting ipython-genutils (from ipython-sql)\n",
      "  Downloading ipython_genutils-0.2.0-py2.py3-none-any.whl.metadata (755 bytes)\n",
      "Requirement already satisfied: typing-extensions>=4.6.0 in c:\\users\\timasha\\appdata\\local\\programs\\python\\python312\\lib\\site-packages (from sqlalchemy>=2.0->ipython-sql) (4.12.2)\n",
      "Requirement already satisfied: greenlet!=0.4.17 in c:\\users\\timasha\\appdata\\local\\programs\\python\\python312\\lib\\site-packages (from sqlalchemy>=2.0->ipython-sql) (3.0.3)\n",
      "Requirement already satisfied: decorator in c:\\users\\timasha\\appdata\\roaming\\python\\python312\\site-packages (from ipython->ipython-sql) (5.1.1)\n",
      "Requirement already satisfied: jedi>=0.16 in c:\\users\\timasha\\appdata\\roaming\\python\\python312\\site-packages (from ipython->ipython-sql) (0.19.1)\n",
      "Requirement already satisfied: matplotlib-inline in c:\\users\\timasha\\appdata\\roaming\\python\\python312\\site-packages (from ipython->ipython-sql) (0.1.7)\n",
      "Requirement already satisfied: prompt-toolkit<3.1.0,>=3.0.41 in c:\\users\\timasha\\appdata\\roaming\\python\\python312\\site-packages (from ipython->ipython-sql) (3.0.46)\n",
      "Requirement already satisfied: pygments>=2.4.0 in c:\\users\\timasha\\appdata\\roaming\\python\\python312\\site-packages (from ipython->ipython-sql) (2.18.0)\n",
      "Requirement already satisfied: stack-data in c:\\users\\timasha\\appdata\\roaming\\python\\python312\\site-packages (from ipython->ipython-sql) (0.6.3)\n",
      "Requirement already satisfied: traitlets>=5.13.0 in c:\\users\\timasha\\appdata\\roaming\\python\\python312\\site-packages (from ipython->ipython-sql) (5.14.3)\n",
      "Requirement already satisfied: colorama in c:\\users\\timasha\\appdata\\roaming\\python\\python312\\site-packages (from ipython->ipython-sql) (0.4.6)\n",
      "Requirement already satisfied: wcwidth in c:\\users\\timasha\\appdata\\roaming\\python\\python312\\site-packages (from prettytable->ipython-sql) (0.2.13)\n",
      "Requirement already satisfied: parso<0.9.0,>=0.8.3 in c:\\users\\timasha\\appdata\\roaming\\python\\python312\\site-packages (from jedi>=0.16->ipython->ipython-sql) (0.8.4)\n",
      "Requirement already satisfied: executing>=1.2.0 in c:\\users\\timasha\\appdata\\roaming\\python\\python312\\site-packages (from stack-data->ipython->ipython-sql) (2.0.1)\n",
      "Requirement already satisfied: asttokens>=2.1.0 in c:\\users\\timasha\\appdata\\roaming\\python\\python312\\site-packages (from stack-data->ipython->ipython-sql) (2.4.1)\n",
      "Requirement already satisfied: pure-eval in c:\\users\\timasha\\appdata\\roaming\\python\\python312\\site-packages (from stack-data->ipython->ipython-sql) (0.2.2)\n",
      "Downloading ipython_sql-0.5.0-py3-none-any.whl (20 kB)\n",
      "Downloading ipython_genutils-0.2.0-py2.py3-none-any.whl (26 kB)\n",
      "Downloading prettytable-3.16.0-py3-none-any.whl (33 kB)\n",
      "Installing collected packages: ipython-genutils, prettytable, ipython-sql\n",
      "Successfully installed ipython-genutils-0.2.0 ipython-sql-0.5.0 prettytable-3.16.0\n"
     ]
    },
    {
     "name": "stderr",
     "output_type": "stream",
     "text": [
      "\n",
      "[notice] A new release of pip is available: 25.0.1 -> 25.1.1\n",
      "[notice] To update, run: python.exe -m pip install --upgrade pip\n"
     ]
    },
    {
     "name": "stdout",
     "output_type": "stream",
     "text": [
      "Requirement already satisfied: ipython-sql in c:\\users\\timasha\\appdata\\local\\programs\\python\\python312\\lib\\site-packages (0.5.0)\n",
      "Requirement already satisfied: prettytable in c:\\users\\timasha\\appdata\\local\\programs\\python\\python312\\lib\\site-packages (3.16.0)\n",
      "Requirement already satisfied: ipython in c:\\users\\timasha\\appdata\\roaming\\python\\python312\\site-packages (from ipython-sql) (8.25.0)\n",
      "Requirement already satisfied: sqlalchemy>=2.0 in c:\\users\\timasha\\appdata\\local\\programs\\python\\python312\\lib\\site-packages (from ipython-sql) (2.0.34)\n",
      "Requirement already satisfied: sqlparse in c:\\users\\timasha\\appdata\\local\\programs\\python\\python312\\lib\\site-packages (from ipython-sql) (0.5.1)\n",
      "Requirement already satisfied: six in c:\\users\\timasha\\appdata\\local\\programs\\python\\python312\\lib\\site-packages (from ipython-sql) (1.17.0)\n",
      "Requirement already satisfied: ipython-genutils in c:\\users\\timasha\\appdata\\local\\programs\\python\\python312\\lib\\site-packages (from ipython-sql) (0.2.0)\n",
      "Requirement already satisfied: wcwidth in c:\\users\\timasha\\appdata\\roaming\\python\\python312\\site-packages (from prettytable) (0.2.13)\n",
      "Requirement already satisfied: typing-extensions>=4.6.0 in c:\\users\\timasha\\appdata\\local\\programs\\python\\python312\\lib\\site-packages (from sqlalchemy>=2.0->ipython-sql) (4.12.2)\n",
      "Requirement already satisfied: greenlet!=0.4.17 in c:\\users\\timasha\\appdata\\local\\programs\\python\\python312\\lib\\site-packages (from sqlalchemy>=2.0->ipython-sql) (3.0.3)\n",
      "Requirement already satisfied: decorator in c:\\users\\timasha\\appdata\\roaming\\python\\python312\\site-packages (from ipython->ipython-sql) (5.1.1)\n",
      "Requirement already satisfied: jedi>=0.16 in c:\\users\\timasha\\appdata\\roaming\\python\\python312\\site-packages (from ipython->ipython-sql) (0.19.1)\n",
      "Requirement already satisfied: matplotlib-inline in c:\\users\\timasha\\appdata\\roaming\\python\\python312\\site-packages (from ipython->ipython-sql) (0.1.7)\n",
      "Requirement already satisfied: prompt-toolkit<3.1.0,>=3.0.41 in c:\\users\\timasha\\appdata\\roaming\\python\\python312\\site-packages (from ipython->ipython-sql) (3.0.46)\n",
      "Requirement already satisfied: pygments>=2.4.0 in c:\\users\\timasha\\appdata\\roaming\\python\\python312\\site-packages (from ipython->ipython-sql) (2.18.0)\n",
      "Requirement already satisfied: stack-data in c:\\users\\timasha\\appdata\\roaming\\python\\python312\\site-packages (from ipython->ipython-sql) (0.6.3)\n",
      "Requirement already satisfied: traitlets>=5.13.0 in c:\\users\\timasha\\appdata\\roaming\\python\\python312\\site-packages (from ipython->ipython-sql) (5.14.3)\n",
      "Requirement already satisfied: colorama in c:\\users\\timasha\\appdata\\roaming\\python\\python312\\site-packages (from ipython->ipython-sql) (0.4.6)\n",
      "Requirement already satisfied: parso<0.9.0,>=0.8.3 in c:\\users\\timasha\\appdata\\roaming\\python\\python312\\site-packages (from jedi>=0.16->ipython->ipython-sql) (0.8.4)\n",
      "Requirement already satisfied: executing>=1.2.0 in c:\\users\\timasha\\appdata\\roaming\\python\\python312\\site-packages (from stack-data->ipython->ipython-sql) (2.0.1)\n",
      "Requirement already satisfied: asttokens>=2.1.0 in c:\\users\\timasha\\appdata\\roaming\\python\\python312\\site-packages (from stack-data->ipython->ipython-sql) (2.4.1)\n",
      "Requirement already satisfied: pure-eval in c:\\users\\timasha\\appdata\\roaming\\python\\python312\\site-packages (from stack-data->ipython->ipython-sql) (0.2.2)\n"
     ]
    },
    {
     "name": "stderr",
     "output_type": "stream",
     "text": [
      "\n",
      "[notice] A new release of pip is available: 25.0.1 -> 25.1.1\n",
      "[notice] To update, run: python.exe -m pip install --upgrade pip\n"
     ]
    }
   ],
   "source": [
    "!pip install ipython-sql\n",
    "!pip install ipython-sql prettytable"
   ]
  },
  {
   "cell_type": "code",
   "execution_count": 6,
   "id": "02344bef",
   "metadata": {},
   "outputs": [],
   "source": [
    "%load_ext sql"
   ]
  },
  {
   "cell_type": "code",
   "execution_count": null,
   "id": "458e6e29",
   "metadata": {},
   "outputs": [],
   "source": [
    "import csv, sqlite3\n",
    "import prettytable\n",
    "prettytable.DEFAULT = 'DEFAULT'     #Sets the default table style (other options include 'MSWORD_FRIENDLY', 'PLAIN_COLUMNS', etc.)\n",
    "\n",
    "con = sqlite3.connect(\"my_data1.db\")\n",
    "cur = con.cursor()"
   ]
  },
  {
   "cell_type": "code",
   "execution_count": 7,
   "id": "64ef311f",
   "metadata": {},
   "outputs": [
    {
     "name": "stderr",
     "output_type": "stream",
     "text": [
      "\n",
      "[notice] A new release of pip is available: 25.0.1 -> 25.1.1\n",
      "[notice] To update, run: python.exe -m pip install --upgrade pip\n"
     ]
    }
   ],
   "source": [
    "!pip install -q pandas"
   ]
  },
  {
   "cell_type": "code",
   "execution_count": 8,
   "id": "bb201bce",
   "metadata": {},
   "outputs": [],
   "source": [
    "%sql sqlite:///my_data1.db"
   ]
  },
  {
   "cell_type": "code",
   "execution_count": 4,
   "id": "333dfa12",
   "metadata": {},
   "outputs": [
    {
     "data": {
      "text/plain": [
       "101"
      ]
     },
     "execution_count": 4,
     "metadata": {},
     "output_type": "execute_result"
    }
   ],
   "source": [
    "import pandas as pd\n",
    "df = pd.read_csv(\"https://cf-courses-data.s3.us.cloud-object-storage.appdomain.cloud/IBM-DS0321EN-SkillsNetwork/labs/module_2/data/Spacex.csv\")\n",
    "df.to_sql(\"SPACEXTBL\", con, if_exists='replace', index=False,method=\"multi\")"
   ]
  },
  {
   "cell_type": "code",
   "execution_count": 9,
   "id": "e5181abf",
   "metadata": {},
   "outputs": [
    {
     "name": "stdout",
     "output_type": "stream",
     "text": [
      " * sqlite:///my_data1.db\n",
      "Done.\n"
     ]
    },
    {
     "data": {
      "text/plain": [
       "[]"
      ]
     },
     "execution_count": 9,
     "metadata": {},
     "output_type": "execute_result"
    }
   ],
   "source": [
    "%sql DROP TABLE IF EXISTS SPACEXTABLE;"
   ]
  },
  {
   "cell_type": "code",
   "execution_count": 10,
   "id": "82197594",
   "metadata": {},
   "outputs": [
    {
     "name": "stdout",
     "output_type": "stream",
     "text": [
      " * sqlite:///my_data1.db\n",
      "Done.\n"
     ]
    },
    {
     "data": {
      "text/plain": [
       "[]"
      ]
     },
     "execution_count": 10,
     "metadata": {},
     "output_type": "execute_result"
    }
   ],
   "source": [
    "%sql create table SPACEXTABLE as select * from SPACEXTBL where Date is not null"
   ]
  },
  {
   "cell_type": "code",
   "execution_count": 11,
   "id": "1ee6ba45",
   "metadata": {},
   "outputs": [
    {
     "name": "stdout",
     "output_type": "stream",
     "text": [
      "['CCAFS LC-40' 'VAFB SLC-4E' 'KSC LC-39A' 'CCAFS SLC-40']\n"
     ]
    }
   ],
   "source": [
    "unique_launch_sites = df['Launch_Site'].unique()\n",
    "print(unique_launch_sites)"
   ]
  },
  {
   "cell_type": "code",
   "execution_count": null,
   "id": "377d2c16",
   "metadata": {},
   "outputs": [
    {
     "data": {
      "text/html": [
       "<div>\n",
       "<style scoped>\n",
       "    .dataframe tbody tr th:only-of-type {\n",
       "        vertical-align: middle;\n",
       "    }\n",
       "\n",
       "    .dataframe tbody tr th {\n",
       "        vertical-align: top;\n",
       "    }\n",
       "\n",
       "    .dataframe thead th {\n",
       "        text-align: right;\n",
       "    }\n",
       "</style>\n",
       "<table border=\"1\" class=\"dataframe\">\n",
       "  <thead>\n",
       "    <tr style=\"text-align: right;\">\n",
       "      <th></th>\n",
       "      <th>Date</th>\n",
       "      <th>Time (UTC)</th>\n",
       "      <th>Booster_Version</th>\n",
       "      <th>Launch_Site</th>\n",
       "      <th>Payload</th>\n",
       "      <th>PAYLOAD_MASS__KG_</th>\n",
       "      <th>Orbit</th>\n",
       "      <th>Customer</th>\n",
       "      <th>Mission_Outcome</th>\n",
       "      <th>Landing_Outcome</th>\n",
       "    </tr>\n",
       "  </thead>\n",
       "  <tbody>\n",
       "    <tr>\n",
       "      <th>0</th>\n",
       "      <td>2010-06-04</td>\n",
       "      <td>18:45:00</td>\n",
       "      <td>F9 v1.0  B0003</td>\n",
       "      <td>CCAFS LC-40</td>\n",
       "      <td>Dragon Spacecraft Qualification Unit</td>\n",
       "      <td>0</td>\n",
       "      <td>LEO</td>\n",
       "      <td>SpaceX</td>\n",
       "      <td>Success</td>\n",
       "      <td>Failure (parachute)</td>\n",
       "    </tr>\n",
       "    <tr>\n",
       "      <th>1</th>\n",
       "      <td>2010-12-08</td>\n",
       "      <td>15:43:00</td>\n",
       "      <td>F9 v1.0  B0004</td>\n",
       "      <td>CCAFS LC-40</td>\n",
       "      <td>Dragon demo flight C1, two CubeSats, barrel of...</td>\n",
       "      <td>0</td>\n",
       "      <td>LEO (ISS)</td>\n",
       "      <td>NASA (COTS) NRO</td>\n",
       "      <td>Success</td>\n",
       "      <td>Failure (parachute)</td>\n",
       "    </tr>\n",
       "    <tr>\n",
       "      <th>2</th>\n",
       "      <td>2012-05-22</td>\n",
       "      <td>7:44:00</td>\n",
       "      <td>F9 v1.0  B0005</td>\n",
       "      <td>CCAFS LC-40</td>\n",
       "      <td>Dragon demo flight C2</td>\n",
       "      <td>525</td>\n",
       "      <td>LEO (ISS)</td>\n",
       "      <td>NASA (COTS)</td>\n",
       "      <td>Success</td>\n",
       "      <td>No attempt</td>\n",
       "    </tr>\n",
       "    <tr>\n",
       "      <th>3</th>\n",
       "      <td>2012-10-08</td>\n",
       "      <td>0:35:00</td>\n",
       "      <td>F9 v1.0  B0006</td>\n",
       "      <td>CCAFS LC-40</td>\n",
       "      <td>SpaceX CRS-1</td>\n",
       "      <td>500</td>\n",
       "      <td>LEO (ISS)</td>\n",
       "      <td>NASA (CRS)</td>\n",
       "      <td>Success</td>\n",
       "      <td>No attempt</td>\n",
       "    </tr>\n",
       "    <tr>\n",
       "      <th>4</th>\n",
       "      <td>2013-03-01</td>\n",
       "      <td>15:10:00</td>\n",
       "      <td>F9 v1.0  B0007</td>\n",
       "      <td>CCAFS LC-40</td>\n",
       "      <td>SpaceX CRS-2</td>\n",
       "      <td>677</td>\n",
       "      <td>LEO (ISS)</td>\n",
       "      <td>NASA (CRS)</td>\n",
       "      <td>Success</td>\n",
       "      <td>No attempt</td>\n",
       "    </tr>\n",
       "  </tbody>\n",
       "</table>\n",
       "</div>"
      ],
      "text/plain": [
       "         Date Time (UTC) Booster_Version  Launch_Site  \\\n",
       "0  2010-06-04   18:45:00  F9 v1.0  B0003  CCAFS LC-40   \n",
       "1  2010-12-08   15:43:00  F9 v1.0  B0004  CCAFS LC-40   \n",
       "2  2012-05-22    7:44:00  F9 v1.0  B0005  CCAFS LC-40   \n",
       "3  2012-10-08    0:35:00  F9 v1.0  B0006  CCAFS LC-40   \n",
       "4  2013-03-01   15:10:00  F9 v1.0  B0007  CCAFS LC-40   \n",
       "\n",
       "                                             Payload  PAYLOAD_MASS__KG_  \\\n",
       "0               Dragon Spacecraft Qualification Unit                  0   \n",
       "1  Dragon demo flight C1, two CubeSats, barrel of...                  0   \n",
       "2                              Dragon demo flight C2                525   \n",
       "3                                       SpaceX CRS-1                500   \n",
       "4                                       SpaceX CRS-2                677   \n",
       "\n",
       "       Orbit         Customer Mission_Outcome      Landing_Outcome  \n",
       "0        LEO           SpaceX         Success  Failure (parachute)  \n",
       "1  LEO (ISS)  NASA (COTS) NRO         Success  Failure (parachute)  \n",
       "2  LEO (ISS)      NASA (COTS)         Success           No attempt  \n",
       "3  LEO (ISS)       NASA (CRS)         Success           No attempt  \n",
       "4  LEO (ISS)       NASA (CRS)         Success           No attempt  "
      ]
     },
     "execution_count": 12,
     "metadata": {},
     "output_type": "execute_result"
    }
   ],
   "source": [
    "#show only the rows where the 'Launch_Site' column values start with the string 'CCA'\n",
    "df[df['Launch_Site'].str.startswith('CCA')].head(5)"
   ]
  },
  {
   "cell_type": "code",
   "execution_count": 13,
   "id": "bd5ea561",
   "metadata": {},
   "outputs": [
    {
     "name": "stdout",
     "output_type": "stream",
     "text": [
      "Total payload mass carried by boosters launched by NASA (CRS): 45596 kg\n"
     ]
    }
   ],
   "source": [
    "total_payload_mass = df[df['Customer'] == 'NASA (CRS)']['PAYLOAD_MASS__KG_'].sum()\n",
    "print(\"Total payload mass carried by boosters launched by NASA (CRS):\", total_payload_mass, \"kg\")"
   ]
  },
  {
   "cell_type": "code",
   "execution_count": 14,
   "id": "b4a99977",
   "metadata": {},
   "outputs": [
    {
     "name": "stdout",
     "output_type": "stream",
     "text": [
      "Average payload mass carried by booster version F9 v1.1: 2928.4 kg\n"
     ]
    }
   ],
   "source": [
    "avg_payload_f9_v1_1 = df[df['Booster_Version'] == 'F9 v1.1']['PAYLOAD_MASS__KG_'].mean()\n",
    "print(\"Average payload mass carried by booster version F9 v1.1:\", avg_payload_f9_v1_1, \"kg\")"
   ]
  },
  {
   "cell_type": "code",
   "execution_count": 15,
   "id": "b715652f",
   "metadata": {},
   "outputs": [
    {
     "name": "stdout",
     "output_type": "stream",
     "text": [
      "Date of first successful landing outcome in ground pad: 2015-12-22\n"
     ]
    }
   ],
   "source": [
    "first_ground_pad_landing = df[df['Landing_Outcome'] == 'Success (ground pad)']['Date'].min()\n",
    "print(\"Date of first successful landing outcome in ground pad:\", first_ground_pad_landing)"
   ]
  },
  {
   "cell_type": "code",
   "execution_count": 16,
   "id": "c4f3198b",
   "metadata": {},
   "outputs": [
    {
     "name": "stdout",
     "output_type": "stream",
     "text": [
      "Boosters with success in drone ship and payload mass between 4000 and 6000 kg: ['F9 FT B1022' 'F9 FT B1026' 'F9 FT  B1021.2' 'F9 FT  B1031.2']\n"
     ]
    }
   ],
   "source": [
    "boosters = df[\n",
    "    (df['Landing_Outcome'] == 'Success (drone ship)') &\n",
    "    (df['PAYLOAD_MASS__KG_'] > 4000) &\n",
    "    (df['PAYLOAD_MASS__KG_'] < 6000)\n",
    "]['Booster_Version'].unique()\n",
    "print(\"Boosters with success in drone ship and payload mass between 4000 and 6000 kg:\", boosters)"
   ]
  },
  {
   "cell_type": "code",
   "execution_count": 17,
   "id": "71e6b212",
   "metadata": {},
   "outputs": [
    {
     "name": "stdout",
     "output_type": "stream",
     "text": [
      "Total successful mission outcomes: 100\n",
      "Total failure mission outcomes: 1\n"
     ]
    }
   ],
   "source": [
    "success_count = df[df['Mission_Outcome'].str.lower().str.contains('success')].shape[0]\n",
    "failure_count = df[df['Mission_Outcome'].str.lower().str.contains('failure')].shape[0]\n",
    "print(\"Total successful mission outcomes:\", success_count)\n",
    "print(\"Total failure mission outcomes:\", failure_count)"
   ]
  },
  {
   "cell_type": "code",
   "execution_count": null,
   "id": "4babab4c",
   "metadata": {},
   "outputs": [
    {
     "name": "stdout",
     "output_type": "stream",
     "text": [
      "['F9 B5 B1048.4' 'F9 B5 B1049.4' 'F9 B5 B1051.3' 'F9 B5 B1056.4'\n",
      " 'F9 B5 B1048.5' 'F9 B5 B1051.4' 'F9 B5 B1049.5' 'F9 B5 B1060.2 '\n",
      " 'F9 B5 B1058.3 ' 'F9 B5 B1051.6' 'F9 B5 B1060.3' 'F9 B5 B1049.7 ']\n"
     ]
    }
   ],
   "source": [
    "query = \"\"\"\n",
    "SELECT Booster_Version\n",
    "FROM SPACEXTBL\n",
    "WHERE PAYLOAD_MASS__KG_ = (\n",
    "    SELECT MAX(PAYLOAD_MASS__KG_) FROM SPACEXTBL\n",
    ")\n",
    "\"\"\"\n",
    "result = pd.read_sql_query(query, con)\n",
    "print(result['Booster_Version'].unique())"
   ]
  },
  {
   "cell_type": "code",
   "execution_count": 19,
   "id": "15d6f71a",
   "metadata": {},
   "outputs": [
    {
     "name": "stdout",
     "output_type": "stream",
     "text": [
      "  Month_Name       Landing_Outcome Booster_Version  Launch_Site\n",
      "0    January  Failure (drone ship)   F9 v1.1 B1012  CCAFS LC-40\n",
      "1      April  Failure (drone ship)   F9 v1.1 B1015  CCAFS LC-40\n"
     ]
    }
   ],
   "source": [
    "query_2015_failures = \"\"\"\n",
    "SELECT \n",
    "    CASE substr(Date, 6, 2)\n",
    "        WHEN '01' THEN 'January'\n",
    "        WHEN '02' THEN 'February'\n",
    "        WHEN '03' THEN 'March'\n",
    "        WHEN '04' THEN 'April'\n",
    "        WHEN '05' THEN 'May'\n",
    "        WHEN '06' THEN 'June'\n",
    "        WHEN '07' THEN 'July'\n",
    "        WHEN '08' THEN 'August'\n",
    "        WHEN '09' THEN 'September'\n",
    "        WHEN '10' THEN 'October'\n",
    "        WHEN '11' THEN 'November'\n",
    "        WHEN '12' THEN 'December'\n",
    "    END AS Month_Name,\n",
    "    Landing_Outcome,\n",
    "    Booster_Version,\n",
    "    Launch_Site\n",
    "FROM SPACEXTBL\n",
    "WHERE substr(Date, 0, 5) = '2015'\n",
    "  AND Landing_Outcome LIKE '%Failure (drone ship)%'\n",
    "\"\"\"\n",
    "failures_2015 = pd.read_sql_query(query_2015_failures, con)\n",
    "print(failures_2015)"
   ]
  },
  {
   "cell_type": "code",
   "execution_count": 20,
   "id": "e9cc65cf",
   "metadata": {},
   "outputs": [
    {
     "name": "stdout",
     "output_type": "stream",
     "text": [
      "Landing_Outcome\n",
      "No attempt                10\n",
      "Failure (drone ship)       5\n",
      "Success (drone ship)       5\n",
      "Controlled (ocean)         3\n",
      "Success (ground pad)       3\n",
      "Failure (parachute)        2\n",
      "Uncontrolled (ocean)       2\n",
      "Precluded (drone ship)     1\n",
      "Name: count, dtype: int64\n"
     ]
    }
   ],
   "source": [
    "landing_counts = df[\n",
    "    (df['Date'] >= '2010-06-04') & (df['Date'] <= '2017-03-20')\n",
    "]['Landing_Outcome'].value_counts().sort_values(ascending=False)\n",
    "print(landing_counts)"
   ]
  }
 ],
 "metadata": {
  "kernelspec": {
   "display_name": "Python 3",
   "language": "python",
   "name": "python3"
  },
  "language_info": {
   "codemirror_mode": {
    "name": "ipython",
    "version": 3
   },
   "file_extension": ".py",
   "mimetype": "text/x-python",
   "name": "python",
   "nbconvert_exporter": "python",
   "pygments_lexer": "ipython3",
   "version": "3.12.0"
  }
 },
 "nbformat": 4,
 "nbformat_minor": 5
}
